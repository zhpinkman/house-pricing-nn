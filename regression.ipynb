{
 "cells": [
  {
   "cell_type": "code",
   "execution_count": 1,
   "id": "downtown-livestock",
   "metadata": {},
   "outputs": [],
   "source": [
    "from tqdm.notebook import tqdm\n",
    "import pandas as pd\n",
    "import numpy as np\n",
    "import torch\n",
    "import torch.nn as nn\n",
    "import torch.nn.functional as F\n",
    "from torchvision import datasets\n",
    "import torchvision\n",
    "from torch.utils.data import DataLoader\n",
    "from sklearn.preprocessing import StandardScaler, MinMaxScaler\n",
    "from sklearn.model_selection import train_test_split\n",
    "import seaborn as sns\n",
    "import torch.optim as optim\n",
    "import matplotlib.pyplot as plt"
   ]
  },
  {
   "cell_type": "markdown",
   "id": "lesser-necklace",
   "metadata": {},
   "source": [
    "Reading and observing the dataset at hand"
   ]
  },
  {
   "cell_type": "code",
   "execution_count": 2,
   "id": "incorporate-luxury",
   "metadata": {},
   "outputs": [
    {
     "name": "stdout",
     "output_type": "stream",
     "text": [
      "data_description.txt  house prices.csv      regression.ipynb\r\n"
     ]
    }
   ],
   "source": [
    "ls"
   ]
  },
  {
   "cell_type": "code",
   "execution_count": 3,
   "id": "practical-forth",
   "metadata": {},
   "outputs": [],
   "source": [
    "df = pd.read_csv('house prices.csv')\n",
    "df.drop('Id', inplace=True, axis=1)"
   ]
  },
  {
   "cell_type": "code",
   "execution_count": 4,
   "id": "armed-conference",
   "metadata": {},
   "outputs": [
    {
     "data": {
      "text/html": [
       "<div>\n",
       "<style scoped>\n",
       "    .dataframe tbody tr th:only-of-type {\n",
       "        vertical-align: middle;\n",
       "    }\n",
       "\n",
       "    .dataframe tbody tr th {\n",
       "        vertical-align: top;\n",
       "    }\n",
       "\n",
       "    .dataframe thead th {\n",
       "        text-align: right;\n",
       "    }\n",
       "</style>\n",
       "<table border=\"1\" class=\"dataframe\">\n",
       "  <thead>\n",
       "    <tr style=\"text-align: right;\">\n",
       "      <th></th>\n",
       "      <th>MSSubClass</th>\n",
       "      <th>MSZoning</th>\n",
       "      <th>LotFrontage</th>\n",
       "      <th>LotArea</th>\n",
       "      <th>Street</th>\n",
       "      <th>Alley</th>\n",
       "      <th>LotShape</th>\n",
       "      <th>LandContour</th>\n",
       "      <th>Utilities</th>\n",
       "      <th>LotConfig</th>\n",
       "      <th>...</th>\n",
       "      <th>PoolArea</th>\n",
       "      <th>PoolQC</th>\n",
       "      <th>Fence</th>\n",
       "      <th>MiscFeature</th>\n",
       "      <th>MiscVal</th>\n",
       "      <th>MoSold</th>\n",
       "      <th>YrSold</th>\n",
       "      <th>SaleType</th>\n",
       "      <th>SaleCondition</th>\n",
       "      <th>SalePrice</th>\n",
       "    </tr>\n",
       "  </thead>\n",
       "  <tbody>\n",
       "    <tr>\n",
       "      <th>0</th>\n",
       "      <td>60</td>\n",
       "      <td>RL</td>\n",
       "      <td>65.0</td>\n",
       "      <td>8450</td>\n",
       "      <td>Pave</td>\n",
       "      <td>NaN</td>\n",
       "      <td>Reg</td>\n",
       "      <td>Lvl</td>\n",
       "      <td>AllPub</td>\n",
       "      <td>Inside</td>\n",
       "      <td>...</td>\n",
       "      <td>0</td>\n",
       "      <td>NaN</td>\n",
       "      <td>NaN</td>\n",
       "      <td>NaN</td>\n",
       "      <td>0</td>\n",
       "      <td>2</td>\n",
       "      <td>2008</td>\n",
       "      <td>WD</td>\n",
       "      <td>Normal</td>\n",
       "      <td>208500</td>\n",
       "    </tr>\n",
       "    <tr>\n",
       "      <th>1</th>\n",
       "      <td>20</td>\n",
       "      <td>RL</td>\n",
       "      <td>80.0</td>\n",
       "      <td>9600</td>\n",
       "      <td>Pave</td>\n",
       "      <td>NaN</td>\n",
       "      <td>Reg</td>\n",
       "      <td>Lvl</td>\n",
       "      <td>AllPub</td>\n",
       "      <td>FR2</td>\n",
       "      <td>...</td>\n",
       "      <td>0</td>\n",
       "      <td>NaN</td>\n",
       "      <td>NaN</td>\n",
       "      <td>NaN</td>\n",
       "      <td>0</td>\n",
       "      <td>5</td>\n",
       "      <td>2007</td>\n",
       "      <td>WD</td>\n",
       "      <td>Normal</td>\n",
       "      <td>181500</td>\n",
       "    </tr>\n",
       "    <tr>\n",
       "      <th>2</th>\n",
       "      <td>60</td>\n",
       "      <td>RL</td>\n",
       "      <td>68.0</td>\n",
       "      <td>11250</td>\n",
       "      <td>Pave</td>\n",
       "      <td>NaN</td>\n",
       "      <td>IR1</td>\n",
       "      <td>Lvl</td>\n",
       "      <td>AllPub</td>\n",
       "      <td>Inside</td>\n",
       "      <td>...</td>\n",
       "      <td>0</td>\n",
       "      <td>NaN</td>\n",
       "      <td>NaN</td>\n",
       "      <td>NaN</td>\n",
       "      <td>0</td>\n",
       "      <td>9</td>\n",
       "      <td>2008</td>\n",
       "      <td>WD</td>\n",
       "      <td>Normal</td>\n",
       "      <td>223500</td>\n",
       "    </tr>\n",
       "  </tbody>\n",
       "</table>\n",
       "<p>3 rows × 80 columns</p>\n",
       "</div>"
      ],
      "text/plain": [
       "   MSSubClass MSZoning  LotFrontage  LotArea Street Alley LotShape  \\\n",
       "0          60       RL         65.0     8450   Pave   NaN      Reg   \n",
       "1          20       RL         80.0     9600   Pave   NaN      Reg   \n",
       "2          60       RL         68.0    11250   Pave   NaN      IR1   \n",
       "\n",
       "  LandContour Utilities LotConfig  ... PoolArea PoolQC Fence MiscFeature  \\\n",
       "0         Lvl    AllPub    Inside  ...        0    NaN   NaN         NaN   \n",
       "1         Lvl    AllPub       FR2  ...        0    NaN   NaN         NaN   \n",
       "2         Lvl    AllPub    Inside  ...        0    NaN   NaN         NaN   \n",
       "\n",
       "  MiscVal MoSold  YrSold  SaleType  SaleCondition  SalePrice  \n",
       "0       0      2    2008        WD         Normal     208500  \n",
       "1       0      5    2007        WD         Normal     181500  \n",
       "2       0      9    2008        WD         Normal     223500  \n",
       "\n",
       "[3 rows x 80 columns]"
      ]
     },
     "execution_count": 4,
     "metadata": {},
     "output_type": "execute_result"
    }
   ],
   "source": [
    "df.head(3)"
   ]
  },
  {
   "cell_type": "code",
   "execution_count": 5,
   "id": "expensive-fitness",
   "metadata": {},
   "outputs": [
    {
     "name": "stdout",
     "output_type": "stream",
     "text": [
      "<class 'pandas.core.frame.DataFrame'>\n",
      "RangeIndex: 1460 entries, 0 to 1459\n",
      "Data columns (total 80 columns):\n",
      " #   Column         Non-Null Count  Dtype  \n",
      "---  ------         --------------  -----  \n",
      " 0   MSSubClass     1460 non-null   int64  \n",
      " 1   MSZoning       1460 non-null   object \n",
      " 2   LotFrontage    1201 non-null   float64\n",
      " 3   LotArea        1460 non-null   int64  \n",
      " 4   Street         1460 non-null   object \n",
      " 5   Alley          91 non-null     object \n",
      " 6   LotShape       1460 non-null   object \n",
      " 7   LandContour    1460 non-null   object \n",
      " 8   Utilities      1460 non-null   object \n",
      " 9   LotConfig      1460 non-null   object \n",
      " 10  LandSlope      1460 non-null   object \n",
      " 11  Neighborhood   1460 non-null   object \n",
      " 12  Condition1     1460 non-null   object \n",
      " 13  Condition2     1460 non-null   object \n",
      " 14  BldgType       1460 non-null   object \n",
      " 15  HouseStyle     1460 non-null   object \n",
      " 16  OverallQual    1460 non-null   int64  \n",
      " 17  OverallCond    1460 non-null   int64  \n",
      " 18  YearBuilt      1460 non-null   int64  \n",
      " 19  YearRemodAdd   1460 non-null   int64  \n",
      " 20  RoofStyle      1460 non-null   object \n",
      " 21  RoofMatl       1460 non-null   object \n",
      " 22  Exterior1st    1460 non-null   object \n",
      " 23  Exterior2nd    1460 non-null   object \n",
      " 24  MasVnrType     1452 non-null   object \n",
      " 25  MasVnrArea     1452 non-null   float64\n",
      " 26  ExterQual      1460 non-null   object \n",
      " 27  ExterCond      1460 non-null   object \n",
      " 28  Foundation     1460 non-null   object \n",
      " 29  BsmtQual       1423 non-null   object \n",
      " 30  BsmtCond       1423 non-null   object \n",
      " 31  BsmtExposure   1422 non-null   object \n",
      " 32  BsmtFinType1   1423 non-null   object \n",
      " 33  BsmtFinSF1     1460 non-null   int64  \n",
      " 34  BsmtFinType2   1422 non-null   object \n",
      " 35  BsmtFinSF2     1460 non-null   int64  \n",
      " 36  BsmtUnfSF      1460 non-null   int64  \n",
      " 37  TotalBsmtSF    1460 non-null   int64  \n",
      " 38  Heating        1460 non-null   object \n",
      " 39  HeatingQC      1460 non-null   object \n",
      " 40  CentralAir     1460 non-null   object \n",
      " 41  Electrical     1459 non-null   object \n",
      " 42  1stFlrSF       1460 non-null   int64  \n",
      " 43  2ndFlrSF       1460 non-null   int64  \n",
      " 44  LowQualFinSF   1460 non-null   int64  \n",
      " 45  GrLivArea      1460 non-null   int64  \n",
      " 46  BsmtFullBath   1460 non-null   int64  \n",
      " 47  BsmtHalfBath   1460 non-null   int64  \n",
      " 48  FullBath       1460 non-null   int64  \n",
      " 49  HalfBath       1460 non-null   int64  \n",
      " 50  BedroomAbvGr   1460 non-null   int64  \n",
      " 51  KitchenAbvGr   1460 non-null   int64  \n",
      " 52  KitchenQual    1460 non-null   object \n",
      " 53  TotRmsAbvGrd   1460 non-null   int64  \n",
      " 54  Functional     1460 non-null   object \n",
      " 55  Fireplaces     1460 non-null   int64  \n",
      " 56  FireplaceQu    770 non-null    object \n",
      " 57  GarageType     1379 non-null   object \n",
      " 58  GarageYrBlt    1379 non-null   float64\n",
      " 59  GarageFinish   1379 non-null   object \n",
      " 60  GarageCars     1460 non-null   int64  \n",
      " 61  GarageArea     1460 non-null   int64  \n",
      " 62  GarageQual     1379 non-null   object \n",
      " 63  GarageCond     1379 non-null   object \n",
      " 64  PavedDrive     1460 non-null   object \n",
      " 65  WoodDeckSF     1460 non-null   int64  \n",
      " 66  OpenPorchSF    1460 non-null   int64  \n",
      " 67  EnclosedPorch  1460 non-null   int64  \n",
      " 68  3SsnPorch      1460 non-null   int64  \n",
      " 69  ScreenPorch    1460 non-null   int64  \n",
      " 70  PoolArea       1460 non-null   int64  \n",
      " 71  PoolQC         7 non-null      object \n",
      " 72  Fence          281 non-null    object \n",
      " 73  MiscFeature    54 non-null     object \n",
      " 74  MiscVal        1460 non-null   int64  \n",
      " 75  MoSold         1460 non-null   int64  \n",
      " 76  YrSold         1460 non-null   int64  \n",
      " 77  SaleType       1460 non-null   object \n",
      " 78  SaleCondition  1460 non-null   object \n",
      " 79  SalePrice      1460 non-null   int64  \n",
      "dtypes: float64(3), int64(34), object(43)\n",
      "memory usage: 912.6+ KB\n"
     ]
    }
   ],
   "source": [
    "df.info()"
   ]
  },
  {
   "cell_type": "code",
   "execution_count": 6,
   "id": "composite-explorer",
   "metadata": {},
   "outputs": [],
   "source": [
    "def show_nans():\n",
    "    nan_df = pd.DataFrame(df.isna().sum(axis=0), columns=['nan-count'])\n",
    "    nan_df = nan_df.sort_values('nan-count', ascending=False)\n",
    "    return nan_df"
   ]
  },
  {
   "cell_type": "markdown",
   "id": "frozen-mitchell",
   "metadata": {},
   "source": [
    "Removing Nan values if possible and replacing them with the Nan values defined specifically for each"
   ]
  },
  {
   "cell_type": "code",
   "execution_count": 7,
   "id": "funny-johnson",
   "metadata": {},
   "outputs": [
    {
     "data": {
      "text/html": [
       "<div>\n",
       "<style scoped>\n",
       "    .dataframe tbody tr th:only-of-type {\n",
       "        vertical-align: middle;\n",
       "    }\n",
       "\n",
       "    .dataframe tbody tr th {\n",
       "        vertical-align: top;\n",
       "    }\n",
       "\n",
       "    .dataframe thead th {\n",
       "        text-align: right;\n",
       "    }\n",
       "</style>\n",
       "<table border=\"1\" class=\"dataframe\">\n",
       "  <thead>\n",
       "    <tr style=\"text-align: right;\">\n",
       "      <th></th>\n",
       "      <th>nan-count</th>\n",
       "    </tr>\n",
       "  </thead>\n",
       "  <tbody>\n",
       "    <tr>\n",
       "      <th>GarageYrBlt</th>\n",
       "      <td>81</td>\n",
       "    </tr>\n",
       "    <tr>\n",
       "      <th>MasVnrType</th>\n",
       "      <td>8</td>\n",
       "    </tr>\n",
       "    <tr>\n",
       "      <th>MasVnrArea</th>\n",
       "      <td>8</td>\n",
       "    </tr>\n",
       "    <tr>\n",
       "      <th>Electrical</th>\n",
       "      <td>1</td>\n",
       "    </tr>\n",
       "    <tr>\n",
       "      <th>KitchenQual</th>\n",
       "      <td>0</td>\n",
       "    </tr>\n",
       "    <tr>\n",
       "      <th>...</th>\n",
       "      <td>...</td>\n",
       "    </tr>\n",
       "    <tr>\n",
       "      <th>ExterCond</th>\n",
       "      <td>0</td>\n",
       "    </tr>\n",
       "    <tr>\n",
       "      <th>ExterQual</th>\n",
       "      <td>0</td>\n",
       "    </tr>\n",
       "    <tr>\n",
       "      <th>Exterior2nd</th>\n",
       "      <td>0</td>\n",
       "    </tr>\n",
       "    <tr>\n",
       "      <th>Exterior1st</th>\n",
       "      <td>0</td>\n",
       "    </tr>\n",
       "    <tr>\n",
       "      <th>SalePrice</th>\n",
       "      <td>0</td>\n",
       "    </tr>\n",
       "  </tbody>\n",
       "</table>\n",
       "<p>80 rows × 1 columns</p>\n",
       "</div>"
      ],
      "text/plain": [
       "             nan-count\n",
       "GarageYrBlt         81\n",
       "MasVnrType           8\n",
       "MasVnrArea           8\n",
       "Electrical           1\n",
       "KitchenQual          0\n",
       "...                ...\n",
       "ExterCond            0\n",
       "ExterQual            0\n",
       "Exterior2nd          0\n",
       "Exterior1st          0\n",
       "SalePrice            0\n",
       "\n",
       "[80 rows x 1 columns]"
      ]
     },
     "execution_count": 7,
     "metadata": {},
     "output_type": "execute_result"
    }
   ],
   "source": [
    "df['PoolQC'].fillna('NA', inplace=True)\n",
    "df['MiscFeature'].fillna('NA', inplace=True)\n",
    "df['Alley'].fillna('NA', inplace=True)\n",
    "df['Fence'].fillna('NA', inplace=True)\n",
    "df['FireplaceQu'].fillna('NA', inplace=True)\n",
    "df['GarageCond'].fillna('NA', inplace=True)\n",
    "df['GarageFinish'].fillna('NA', inplace=True)\n",
    "df['GarageQual'].fillna('NA', inplace=True)\n",
    "df['GarageType'].fillna('NA', inplace=True)\n",
    "df['BsmtFinType2'].fillna('NA', inplace=True)\n",
    "df['BsmtFinType1'].fillna('NA', inplace=True)\n",
    "df['BsmtExposure'].fillna('NA', inplace=True)\n",
    "df['BsmtCond'].fillna('NA', inplace=True)\n",
    "df['BsmtQual'].fillna('NA', inplace=True)\n",
    "df['LotFrontage'].fillna(df['LotFrontage'].mean(), inplace=True) # should be experimented\n",
    "show_nans()"
   ]
  },
  {
   "cell_type": "code",
   "execution_count": 8,
   "id": "annoying-gender",
   "metadata": {},
   "outputs": [],
   "source": [
    "df.drop('GarageYrBlt', axis=1, inplace=True)"
   ]
  },
  {
   "cell_type": "code",
   "execution_count": 9,
   "id": "documented-editor",
   "metadata": {},
   "outputs": [],
   "source": [
    "df.dropna(inplace=True)\n",
    "df.drop_duplicates(inplace=True)\n",
    "df.reset_index(drop=True, inplace=True)"
   ]
  },
  {
   "cell_type": "code",
   "execution_count": 10,
   "id": "excited-projection",
   "metadata": {},
   "outputs": [
    {
     "data": {
      "text/plain": [
       "(1451, 79)"
      ]
     },
     "execution_count": 10,
     "metadata": {},
     "output_type": "execute_result"
    }
   ],
   "source": [
    "df.shape"
   ]
  },
  {
   "cell_type": "code",
   "execution_count": 11,
   "id": "italic-worth",
   "metadata": {},
   "outputs": [],
   "source": [
    "number_df = df.select_dtypes('number')\n",
    "object_df = df.select_dtypes('object')"
   ]
  },
  {
   "cell_type": "code",
   "execution_count": 12,
   "id": "latest-capability",
   "metadata": {},
   "outputs": [
    {
     "data": {
      "text/plain": [
       "((1451, 36), (1451, 43))"
      ]
     },
     "execution_count": 12,
     "metadata": {},
     "output_type": "execute_result"
    }
   ],
   "source": [
    "number_df.shape, object_df.shape"
   ]
  },
  {
   "cell_type": "code",
   "execution_count": 13,
   "id": "modular-delhi",
   "metadata": {},
   "outputs": [
    {
     "data": {
      "text/html": [
       "<div>\n",
       "<style scoped>\n",
       "    .dataframe tbody tr th:only-of-type {\n",
       "        vertical-align: middle;\n",
       "    }\n",
       "\n",
       "    .dataframe tbody tr th {\n",
       "        vertical-align: top;\n",
       "    }\n",
       "\n",
       "    .dataframe thead th {\n",
       "        text-align: right;\n",
       "    }\n",
       "</style>\n",
       "<table border=\"1\" class=\"dataframe\">\n",
       "  <thead>\n",
       "    <tr style=\"text-align: right;\">\n",
       "      <th></th>\n",
       "      <th>MSZoning</th>\n",
       "      <th>Street</th>\n",
       "      <th>Alley</th>\n",
       "      <th>LotShape</th>\n",
       "      <th>LandContour</th>\n",
       "      <th>Utilities</th>\n",
       "      <th>LotConfig</th>\n",
       "      <th>LandSlope</th>\n",
       "      <th>Neighborhood</th>\n",
       "      <th>Condition1</th>\n",
       "      <th>...</th>\n",
       "      <th>GarageType</th>\n",
       "      <th>GarageFinish</th>\n",
       "      <th>GarageQual</th>\n",
       "      <th>GarageCond</th>\n",
       "      <th>PavedDrive</th>\n",
       "      <th>PoolQC</th>\n",
       "      <th>Fence</th>\n",
       "      <th>MiscFeature</th>\n",
       "      <th>SaleType</th>\n",
       "      <th>SaleCondition</th>\n",
       "    </tr>\n",
       "  </thead>\n",
       "  <tbody>\n",
       "    <tr>\n",
       "      <th>0</th>\n",
       "      <td>RL</td>\n",
       "      <td>Pave</td>\n",
       "      <td>NA</td>\n",
       "      <td>Reg</td>\n",
       "      <td>Lvl</td>\n",
       "      <td>AllPub</td>\n",
       "      <td>Inside</td>\n",
       "      <td>Gtl</td>\n",
       "      <td>CollgCr</td>\n",
       "      <td>Norm</td>\n",
       "      <td>...</td>\n",
       "      <td>Attchd</td>\n",
       "      <td>RFn</td>\n",
       "      <td>TA</td>\n",
       "      <td>TA</td>\n",
       "      <td>Y</td>\n",
       "      <td>NA</td>\n",
       "      <td>NA</td>\n",
       "      <td>NA</td>\n",
       "      <td>WD</td>\n",
       "      <td>Normal</td>\n",
       "    </tr>\n",
       "    <tr>\n",
       "      <th>1</th>\n",
       "      <td>RL</td>\n",
       "      <td>Pave</td>\n",
       "      <td>NA</td>\n",
       "      <td>Reg</td>\n",
       "      <td>Lvl</td>\n",
       "      <td>AllPub</td>\n",
       "      <td>FR2</td>\n",
       "      <td>Gtl</td>\n",
       "      <td>Veenker</td>\n",
       "      <td>Feedr</td>\n",
       "      <td>...</td>\n",
       "      <td>Attchd</td>\n",
       "      <td>RFn</td>\n",
       "      <td>TA</td>\n",
       "      <td>TA</td>\n",
       "      <td>Y</td>\n",
       "      <td>NA</td>\n",
       "      <td>NA</td>\n",
       "      <td>NA</td>\n",
       "      <td>WD</td>\n",
       "      <td>Normal</td>\n",
       "    </tr>\n",
       "    <tr>\n",
       "      <th>2</th>\n",
       "      <td>RL</td>\n",
       "      <td>Pave</td>\n",
       "      <td>NA</td>\n",
       "      <td>IR1</td>\n",
       "      <td>Lvl</td>\n",
       "      <td>AllPub</td>\n",
       "      <td>Inside</td>\n",
       "      <td>Gtl</td>\n",
       "      <td>CollgCr</td>\n",
       "      <td>Norm</td>\n",
       "      <td>...</td>\n",
       "      <td>Attchd</td>\n",
       "      <td>RFn</td>\n",
       "      <td>TA</td>\n",
       "      <td>TA</td>\n",
       "      <td>Y</td>\n",
       "      <td>NA</td>\n",
       "      <td>NA</td>\n",
       "      <td>NA</td>\n",
       "      <td>WD</td>\n",
       "      <td>Normal</td>\n",
       "    </tr>\n",
       "  </tbody>\n",
       "</table>\n",
       "<p>3 rows × 43 columns</p>\n",
       "</div>"
      ],
      "text/plain": [
       "  MSZoning Street Alley LotShape LandContour Utilities LotConfig LandSlope  \\\n",
       "0       RL   Pave    NA      Reg         Lvl    AllPub    Inside       Gtl   \n",
       "1       RL   Pave    NA      Reg         Lvl    AllPub       FR2       Gtl   \n",
       "2       RL   Pave    NA      IR1         Lvl    AllPub    Inside       Gtl   \n",
       "\n",
       "  Neighborhood Condition1  ... GarageType GarageFinish GarageQual GarageCond  \\\n",
       "0      CollgCr       Norm  ...     Attchd          RFn         TA         TA   \n",
       "1      Veenker      Feedr  ...     Attchd          RFn         TA         TA   \n",
       "2      CollgCr       Norm  ...     Attchd          RFn         TA         TA   \n",
       "\n",
       "  PavedDrive PoolQC Fence MiscFeature SaleType SaleCondition  \n",
       "0          Y     NA    NA          NA       WD        Normal  \n",
       "1          Y     NA    NA          NA       WD        Normal  \n",
       "2          Y     NA    NA          NA       WD        Normal  \n",
       "\n",
       "[3 rows x 43 columns]"
      ]
     },
     "execution_count": 13,
     "metadata": {},
     "output_type": "execute_result"
    }
   ],
   "source": [
    "object_df.head(3)"
   ]
  },
  {
   "cell_type": "code",
   "execution_count": 14,
   "id": "hollow-jamaica",
   "metadata": {},
   "outputs": [
    {
     "data": {
      "text/html": [
       "<div>\n",
       "<style scoped>\n",
       "    .dataframe tbody tr th:only-of-type {\n",
       "        vertical-align: middle;\n",
       "    }\n",
       "\n",
       "    .dataframe tbody tr th {\n",
       "        vertical-align: top;\n",
       "    }\n",
       "\n",
       "    .dataframe thead th {\n",
       "        text-align: right;\n",
       "    }\n",
       "</style>\n",
       "<table border=\"1\" class=\"dataframe\">\n",
       "  <thead>\n",
       "    <tr style=\"text-align: right;\">\n",
       "      <th></th>\n",
       "      <th>MSSubClass</th>\n",
       "      <th>LotFrontage</th>\n",
       "      <th>LotArea</th>\n",
       "      <th>OverallQual</th>\n",
       "      <th>OverallCond</th>\n",
       "      <th>YearBuilt</th>\n",
       "      <th>YearRemodAdd</th>\n",
       "      <th>MasVnrArea</th>\n",
       "      <th>BsmtFinSF1</th>\n",
       "      <th>BsmtFinSF2</th>\n",
       "      <th>...</th>\n",
       "      <th>WoodDeckSF</th>\n",
       "      <th>OpenPorchSF</th>\n",
       "      <th>EnclosedPorch</th>\n",
       "      <th>3SsnPorch</th>\n",
       "      <th>ScreenPorch</th>\n",
       "      <th>PoolArea</th>\n",
       "      <th>MiscVal</th>\n",
       "      <th>MoSold</th>\n",
       "      <th>YrSold</th>\n",
       "      <th>SalePrice</th>\n",
       "    </tr>\n",
       "  </thead>\n",
       "  <tbody>\n",
       "    <tr>\n",
       "      <th>0</th>\n",
       "      <td>60</td>\n",
       "      <td>65.0</td>\n",
       "      <td>8450</td>\n",
       "      <td>7</td>\n",
       "      <td>5</td>\n",
       "      <td>2003</td>\n",
       "      <td>2003</td>\n",
       "      <td>196.0</td>\n",
       "      <td>706</td>\n",
       "      <td>0</td>\n",
       "      <td>...</td>\n",
       "      <td>0</td>\n",
       "      <td>61</td>\n",
       "      <td>0</td>\n",
       "      <td>0</td>\n",
       "      <td>0</td>\n",
       "      <td>0</td>\n",
       "      <td>0</td>\n",
       "      <td>2</td>\n",
       "      <td>2008</td>\n",
       "      <td>208500</td>\n",
       "    </tr>\n",
       "    <tr>\n",
       "      <th>1</th>\n",
       "      <td>20</td>\n",
       "      <td>80.0</td>\n",
       "      <td>9600</td>\n",
       "      <td>6</td>\n",
       "      <td>8</td>\n",
       "      <td>1976</td>\n",
       "      <td>1976</td>\n",
       "      <td>0.0</td>\n",
       "      <td>978</td>\n",
       "      <td>0</td>\n",
       "      <td>...</td>\n",
       "      <td>298</td>\n",
       "      <td>0</td>\n",
       "      <td>0</td>\n",
       "      <td>0</td>\n",
       "      <td>0</td>\n",
       "      <td>0</td>\n",
       "      <td>0</td>\n",
       "      <td>5</td>\n",
       "      <td>2007</td>\n",
       "      <td>181500</td>\n",
       "    </tr>\n",
       "    <tr>\n",
       "      <th>2</th>\n",
       "      <td>60</td>\n",
       "      <td>68.0</td>\n",
       "      <td>11250</td>\n",
       "      <td>7</td>\n",
       "      <td>5</td>\n",
       "      <td>2001</td>\n",
       "      <td>2002</td>\n",
       "      <td>162.0</td>\n",
       "      <td>486</td>\n",
       "      <td>0</td>\n",
       "      <td>...</td>\n",
       "      <td>0</td>\n",
       "      <td>42</td>\n",
       "      <td>0</td>\n",
       "      <td>0</td>\n",
       "      <td>0</td>\n",
       "      <td>0</td>\n",
       "      <td>0</td>\n",
       "      <td>9</td>\n",
       "      <td>2008</td>\n",
       "      <td>223500</td>\n",
       "    </tr>\n",
       "  </tbody>\n",
       "</table>\n",
       "<p>3 rows × 36 columns</p>\n",
       "</div>"
      ],
      "text/plain": [
       "   MSSubClass  LotFrontage  LotArea  OverallQual  OverallCond  YearBuilt  \\\n",
       "0          60         65.0     8450            7            5       2003   \n",
       "1          20         80.0     9600            6            8       1976   \n",
       "2          60         68.0    11250            7            5       2001   \n",
       "\n",
       "   YearRemodAdd  MasVnrArea  BsmtFinSF1  BsmtFinSF2  ...  WoodDeckSF  \\\n",
       "0          2003       196.0         706           0  ...           0   \n",
       "1          1976         0.0         978           0  ...         298   \n",
       "2          2002       162.0         486           0  ...           0   \n",
       "\n",
       "   OpenPorchSF  EnclosedPorch  3SsnPorch  ScreenPorch  PoolArea  MiscVal  \\\n",
       "0           61              0          0            0         0        0   \n",
       "1            0              0          0            0         0        0   \n",
       "2           42              0          0            0         0        0   \n",
       "\n",
       "   MoSold  YrSold  SalePrice  \n",
       "0       2    2008     208500  \n",
       "1       5    2007     181500  \n",
       "2       9    2008     223500  \n",
       "\n",
       "[3 rows x 36 columns]"
      ]
     },
     "execution_count": 14,
     "metadata": {},
     "output_type": "execute_result"
    }
   ],
   "source": [
    "number_df.head(3)"
   ]
  },
  {
   "cell_type": "code",
   "execution_count": 15,
   "id": "ceramic-garage",
   "metadata": {},
   "outputs": [
    {
     "name": "stderr",
     "output_type": "stream",
     "text": [
      "<ipython-input-15-57231cb53607>:2: SettingWithCopyWarning: \n",
      "A value is trying to be set on a copy of a slice from a DataFrame.\n",
      "Try using .loc[row_indexer,col_indexer] = value instead\n",
      "\n",
      "See the caveats in the documentation: https://pandas.pydata.org/pandas-docs/stable/user_guide/indexing.html#returning-a-view-versus-a-copy\n",
      "  object_df[column] = pd.factorize(object_df[column])[0]\n"
     ]
    }
   ],
   "source": [
    "for column in object_df.columns:\n",
    "    object_df[column] = pd.factorize(object_df[column])[0]"
   ]
  },
  {
   "cell_type": "code",
   "execution_count": 16,
   "id": "smooth-senegal",
   "metadata": {},
   "outputs": [],
   "source": [
    "df = pd.concat([number_df, object_df], axis=1)"
   ]
  },
  {
   "cell_type": "code",
   "execution_count": 17,
   "id": "herbal-discrimination",
   "metadata": {},
   "outputs": [
    {
     "data": {
      "text/plain": [
       "<AxesSubplot:xlabel='SalePrice', ylabel='Count'>"
      ]
     },
     "execution_count": 17,
     "metadata": {},
     "output_type": "execute_result"
    },
    {
     "data": {
      "image/png": "[encoded data removed]",
      "text/plain": [
       "<Figure size 432x288 with 1 Axes>"
      ]
     },
     "metadata": {
      "needs_background": "light"
     },
     "output_type": "display_data"
    }
   ],
   "source": [
    "sns.histplot(np.log(df['SalePrice']))"
   ]
  },
  {
   "cell_type": "markdown",
   "id": "colonial-penalty",
   "metadata": {},
   "source": [
    "Making the data loader considering the batch sizes for train and test"
   ]
  },
  {
   "cell_type": "code",
   "execution_count": 18,
   "id": "stuffed-edinburgh",
   "metadata": {},
   "outputs": [],
   "source": [
    "def to_dataloader(df, target_col, batch_size):\n",
    "    target = torch.tensor(df[target_col].values.astype(np.float32))\n",
    "    data = torch.tensor(df.drop(target_col, axis=1).values.astype(np.float32))\n",
    "\n",
    "    data_tensor = torch.utils.data.TensorDataset(data, target)\n",
    "    data_loader = DataLoader(data_tensor, shuffle=True, batch_size=batch_size)\n",
    "    return data_loader"
   ]
  },
  {
   "cell_type": "markdown",
   "id": "exterior-pollution",
   "metadata": {},
   "source": [
    "Definition of the model"
   ]
  },
  {
   "cell_type": "code",
   "execution_count": 19,
   "id": "typical-newark",
   "metadata": {},
   "outputs": [],
   "source": [
    "class Regressor_nn(nn.Module):\n",
    "    def __init__(self, input_size, hidden_size, n_layers, output_size, activation_function):\n",
    "        super(Regressor_nn, self).__init__()\n",
    "        self.activation_function = activation_function\n",
    "        self.fcs = nn.ModuleList()\n",
    "        self.n_layers = n_layers\n",
    "        self.fcs.append(nn.Linear(input_size, hidden_size[0]))\n",
    "        for i in range(n_layers - 1):\n",
    "            self.fcs.append(nn.Linear(hidden_size[i], hidden_size[i + 1]))\n",
    "        self.fcs.append(nn.Linear(hidden_size[-1], output_size))\n",
    "    def forward(self, x):\n",
    "        for i in range(n_layers):\n",
    "            x = self.activation_function(self.fcs[i](x))\n",
    "        x = self.fcs[-1](x)\n",
    "        x = x.squeeze(1)\n",
    "        return x"
   ]
  },
  {
   "cell_type": "code",
   "execution_count": 20,
   "id": "proud-location",
   "metadata": {},
   "outputs": [],
   "source": [
    "def train(model, train_loader, test_loader, criterion_mse, criterion_mae, optimizer):\n",
    "    epochs_loss_mse = []\n",
    "    epochs_loss_mae = []\n",
    "    epochs_loss_mse_test = []\n",
    "    epochs_loss_mae_test = []\n",
    "    for epoch in tqdm(range(n_epochs), leave=False):\n",
    "        batchs_loss_mse = []\n",
    "        batchs_loss_mae = []\n",
    "        for batch_idx, (data, targets) in enumerate(train_loader):\n",
    "            outputs = model(data)\n",
    "            mse = criterion_mse(outputs, targets)\n",
    "            optimizer.zero_grad()\n",
    "            mse.backward()\n",
    "            optimizer.step()\n",
    "            \n",
    "            with torch.no_grad():\n",
    "                mae = criterion_mae(outputs, targets)\n",
    "            batchs_loss_mse.append(mse.item())\n",
    "            batchs_loss_mae.append(mae.item())\n",
    "        \n",
    "        epochs_loss_mse.append(np.mean(batchs_loss_mse))\n",
    "        epochs_loss_mae.append(np.mean(batchs_loss_mae))\n",
    "        batchs_loss_mse_test, batchs_loss_mae_test, _, _ = check_accuracy(model, test_loader, criterion_mse, criterion_mae)\n",
    "        epochs_loss_mse_test.append(batchs_loss_mse_test)\n",
    "        epochs_loss_mae_test.append(batchs_loss_mae_test)\n",
    "    return epochs_loss_mse, epochs_loss_mae, epochs_loss_mse_test, epochs_loss_mae_test"
   ]
  },
  {
   "cell_type": "code",
   "execution_count": 21,
   "id": "palestinian-essex",
   "metadata": {},
   "outputs": [],
   "source": [
    "def check_accuracy(model, loader, criterion_mse, criterion_mae):\n",
    "    model.eval()\n",
    "    outputs_agg = np.array([])\n",
    "    targets_agg = np.array([])\n",
    "    with torch.no_grad():\n",
    "        batchs_loss_mse = []\n",
    "        batchs_loss_mae = []\n",
    "        for batch_idx, (data, targets) in enumerate(loader):\n",
    "            outputs = model(data)\n",
    "            outputs_agg = np.append(outputs_agg, outputs.numpy())\n",
    "            targets_agg = np.append(targets_agg, targets.numpy())\n",
    "            mse = criterion_mse(outputs, targets)\n",
    "            mae = criterion_mae(outputs, targets)\n",
    "            batchs_loss_mse.append(mse.item())     \n",
    "            batchs_loss_mae.append(mae.item())\n",
    "    model.train()\n",
    "    return np.mean(batchs_loss_mse), np.mean(batchs_loss_mae), outputs_agg, targets_agg"
   ]
  },
  {
   "cell_type": "code",
   "execution_count": 22,
   "id": "based-andrew",
   "metadata": {},
   "outputs": [],
   "source": [
    "def scaler_features(df, log_target=False):\n",
    "    df_copy = df.copy()\n",
    "    df_copy_target = df_copy.pop('SalePrice')\n",
    "    if log_target:\n",
    "        df_copy_target = np.log1p(df_copy_target)\n",
    "    df_copy_target.reset_index(drop=True, inplace=True)\n",
    "    scaler = MinMaxScaler()\n",
    "    df_copy = pd.DataFrame(scaler.fit_transform(df_copy), columns=df_copy.columns)\n",
    "    df_copy = pd.concat([df_copy, df_copy_target], axis=1)\n",
    "    return df_copy"
   ]
  },
  {
   "cell_type": "code",
   "execution_count": 23,
   "id": "received-article",
   "metadata": {},
   "outputs": [],
   "source": [
    "def plot_losses(epochs_loss_mse, epochs_loss_mae, epochs_loss_mse_test, epochs_loss_mae_test, title):\n",
    "    fig, axs = plt.subplots(1, 2, figsize=(15, 5))\n",
    "    fig.suptitle(title)\n",
    "    sns.lineplot(data=epochs_loss_mse, label='train data', ax=axs[0])\n",
    "    sns.lineplot(data=epochs_loss_mse_test, label='test data', ax=axs[0])\n",
    "    axs[0].grid()\n",
    "    axs[0].set_title('MSE loss per epoch')\n",
    "    sns.lineplot(data=epochs_loss_mae, label='train data', ax=axs[1])\n",
    "    sns.lineplot(data=epochs_loss_mae_test, label='test data', ax=axs[1])\n",
    "    axs[1].grid()\n",
    "    axs[1].set_title('MAE loss per epoch')\n",
    "    plt.tight_layout()"
   ]
  },
  {
   "cell_type": "code",
   "execution_count": 24,
   "id": "banner-commonwealth",
   "metadata": {},
   "outputs": [],
   "source": [
    "def plot_predictions(outputs_agg, targets_agg):\n",
    "    fig = plt.figure(figsize=(10, 10))\n",
    "    sns.scatterplot(y=outputs_agg, x=targets_agg)\n",
    "    plt.ylabel('predictions')\n",
    "    plt.xlabel('targets')"
   ]
  },
  {
   "cell_type": "code",
   "execution_count": 25,
   "id": "heard-disabled",
   "metadata": {},
   "outputs": [],
   "source": [
    "batch_size = 64\n",
    "dff = scaler_features(df, log_target=True)\n",
    "train_df = dff.sample(frac=.8, random_state=707)\n",
    "test_df = dff.drop(train_df.index)\n",
    "\n",
    "train_loader = to_dataloader(\n",
    "    df=train_df, \n",
    "    target_col='SalePrice', \n",
    "    batch_size=batch_size\n",
    ")\n",
    "test_loader = to_dataloader(\n",
    "    df=test_df, \n",
    "    target_col='SalePrice', \n",
    "    batch_size=batch_size\n",
    ")"
   ]
  },
  {
   "cell_type": "code",
   "execution_count": 26,
   "id": "opposed-league",
   "metadata": {},
   "outputs": [],
   "source": [
    "input_size = df.shape[1] - 1\n",
    "n_layers = 4\n",
    "hidden_size = [100, 64, 32, 16]\n",
    "activation_function = F.relu\n",
    "output_size = 1\n",
    "lr = 0.001\n",
    "n_epochs = 200"
   ]
  },
  {
   "cell_type": "code",
   "execution_count": 27,
   "id": "enhanced-least",
   "metadata": {},
   "outputs": [
    {
     "data": {
      "application/vnd.jupyter.widget-view+json": {
       "model_id": "",
       "version_major": 2,
       "version_minor": 0
      },
      "text/plain": [
       "  0%|          | 0/200 [00:00<?, ?it/s]"
      ]
     },
     "metadata": {},
     "output_type": "display_data"
    },
    {
     "data": {
      "image/png": "[encoded data removed]",
      "text/plain": [
       "<Figure size 1080x360 with 2 Axes>"
      ]
     },
     "metadata": {
      "needs_background": "light"
     },
     "output_type": "display_data"
    },
    {
     "data": {
      "image/png": "[encoded data removed]",
      "text/plain": [
       "<Figure size 720x720 with 1 Axes>"
      ]
     },
     "metadata": {
      "needs_background": "light"
     },
     "output_type": "display_data"
    }
   ],
   "source": [
    "model = Regressor_nn(\n",
    "    input_size=input_size, \n",
    "    hidden_size=hidden_size, \n",
    "    n_layers=n_layers, \n",
    "    output_size=output_size, \n",
    "    activation_function=activation_function\n",
    ")\n",
    "\n",
    "criterion_mse = nn.MSELoss()\n",
    "criterion_mae = nn.L1Loss()\n",
    "optimizer = optim.Adam(model.parameters(), lr)\n",
    "epochs_loss_mse, epochs_loss_mae, epochs_loss_mse_test, epochs_loss_mae_test = train(\n",
    "    model, \n",
    "    train_loader,\n",
    "    test_loader,\n",
    "    criterion_mse,\n",
    "    criterion_mae,\n",
    "    optimizer\n",
    ")\n",
    "plot_losses(\n",
    "    epochs_loss_mse, \n",
    "    epochs_loss_mae,\n",
    "    epochs_loss_mse_test,\n",
    "    epochs_loss_mae_test,\n",
    "    'MSE, {}, and {} layers used for training'.format(str(activation_function).split()[1], str(len(hidden_size)))\n",
    ")\n",
    "_, _, outputs_agg, targets_agg = check_accuracy(model, test_loader, criterion_mse, criterion_mae)\n",
    "plot_predictions(outputs_agg, targets_agg)"
   ]
  },
  {
   "cell_type": "code",
   "execution_count": 28,
   "id": "neither-phrase",
   "metadata": {},
   "outputs": [
    {
     "data": {
      "application/vnd.jupyter.widget-view+json": {
       "model_id": "",
       "version_major": 2,
       "version_minor": 0
      },
      "text/plain": [
       "  0%|          | 0/200 [00:00<?, ?it/s]"
      ]
     },
     "metadata": {},
     "output_type": "display_data"
    },
    {
     "data": {
      "image/png": "[encoded data removed]",
      "text/plain": [
       "<Figure size 1080x360 with 2 Axes>"
      ]
     },
     "metadata": {
      "needs_background": "light"
     },
     "output_type": "display_data"
    },
    {
     "data": {
      "image/png": "[encoded data removed]",
      "text/plain": [
       "<Figure size 720x720 with 1 Axes>"
      ]
     },
     "metadata": {
      "needs_background": "light"
     },
     "output_type": "display_data"
    }
   ],
   "source": [
    "model = Regressor_nn(\n",
    "    input_size=input_size, \n",
    "    hidden_size=hidden_size, \n",
    "    n_layers=n_layers, \n",
    "    output_size=output_size, \n",
    "    activation_function=activation_function\n",
    ")\n",
    "\n",
    "criterion_mse = nn.MSELoss()\n",
    "criterion_mae = nn.L1Loss()\n",
    "optimizer = optim.Adam(model.parameters(), lr)\n",
    "epochs_loss_mae, epochs_loss_mse, epochs_loss_mae_test, epochs_loss_mse_test = train(\n",
    "    model, \n",
    "    train_loader,\n",
    "    test_loader,\n",
    "    criterion_mae,\n",
    "    criterion_mse,\n",
    "    optimizer\n",
    ")\n",
    "plot_losses(\n",
    "    epochs_loss_mse, \n",
    "    epochs_loss_mae,\n",
    "    epochs_loss_mse_test,\n",
    "    epochs_loss_mae_test,\n",
    "    'MAE, {}, and {} layers used for training'.format(str(activation_function).split()[1], str(len(hidden_size)))\n",
    ")\n",
    "_, _, outputs_agg, targets_agg = check_accuracy(model, test_loader, criterion_mse, criterion_mae)\n",
    "plot_predictions(outputs_agg, targets_agg)"
   ]
  },
  {
   "cell_type": "code",
   "execution_count": 29,
   "id": "controversial-premium",
   "metadata": {},
   "outputs": [],
   "source": [
    "batch_size = 32\n",
    "input_size = df.shape[1] - 1\n",
    "n_layers = 4\n",
    "hidden_size = [100, 64, 32, 16]\n",
    "activation_function = torch.sigmoid\n",
    "output_size = 1\n",
    "lr = 0.001\n",
    "n_epochs = 150"
   ]
  },
  {
   "cell_type": "code",
   "execution_count": 30,
   "id": "under-vegetation",
   "metadata": {},
   "outputs": [
    {
     "data": {
      "application/vnd.jupyter.widget-view+json": {
       "model_id": "",
       "version_major": 2,
       "version_minor": 0
      },
      "text/plain": [
       "  0%|          | 0/150 [00:00<?, ?it/s]"
      ]
     },
     "metadata": {},
     "output_type": "display_data"
    },
    {
     "data": {
      "image/png": "[encoded data removed]",
      "text/plain": [
       "<Figure size 1080x360 with 2 Axes>"
      ]
     },
     "metadata": {
      "needs_background": "light"
     },
     "output_type": "display_data"
    }
   ],
   "source": [
    "model = Regressor_nn(\n",
    "    input_size=input_size, \n",
    "    hidden_size=hidden_size, \n",
    "    n_layers=n_layers, \n",
    "    output_size=output_size, \n",
    "    activation_function=activation_function\n",
    ")\n",
    "\n",
    "criterion_mse = nn.MSELoss()\n",
    "criterion_mae = nn.L1Loss()\n",
    "optimizer = optim.Adam(model.parameters(), lr)\n",
    "epochs_loss_mse, epochs_loss_mae, epochs_loss_mse_test, epochs_loss_mae_test = train(\n",
    "    model, \n",
    "    train_loader,\n",
    "    test_loader,\n",
    "    criterion_mse,\n",
    "    criterion_mae,\n",
    "    optimizer\n",
    ")\n",
    "plot_losses(\n",
    "    epochs_loss_mse, \n",
    "    epochs_loss_mae,\n",
    "    epochs_loss_mse_test,\n",
    "    epochs_loss_mae_test,\n",
    "    'MSE, {}, and {} layers used for training'.format(str(activation_function).split()[2], str(len(hidden_size)))\n",
    ")\n",
    "_, _, outputs_agg, targets_agg = check_accuracy(model, test_loader, criterion_mse, criterion_mae)\n",
    "# plot_predictions(outputs_agg, targets_agg)"
   ]
  },
  {
   "cell_type": "code",
   "execution_count": 31,
   "id": "endless-manor",
   "metadata": {},
   "outputs": [],
   "source": [
    "batch_size = 64\n",
    "input_size = df.shape[1] - 1\n",
    "n_layers = 2\n",
    "hidden_size = [100, 64]\n",
    "activation_function = F.relu\n",
    "output_size = 1\n",
    "lr = 0.001\n",
    "n_epochs = 150"
   ]
  },
  {
   "cell_type": "code",
   "execution_count": 32,
   "id": "cooked-california",
   "metadata": {},
   "outputs": [
    {
     "data": {
      "application/vnd.jupyter.widget-view+json": {
       "model_id": "",
       "version_major": 2,
       "version_minor": 0
      },
      "text/plain": [
       "  0%|          | 0/150 [00:00<?, ?it/s]"
      ]
     },
     "metadata": {},
     "output_type": "display_data"
    },
    {
     "data": {
      "image/png": "[encoded data removed]",
      "text/plain": [
       "<Figure size 1080x360 with 2 Axes>"
      ]
     },
     "metadata": {
      "needs_background": "light"
     },
     "output_type": "display_data"
    }
   ],
   "source": [
    "model = Regressor_nn(\n",
    "    input_size=input_size, \n",
    "    hidden_size=hidden_size, \n",
    "    n_layers=n_layers, \n",
    "    output_size=output_size, \n",
    "    activation_function=activation_function\n",
    ")\n",
    "\n",
    "criterion_mse = nn.MSELoss()\n",
    "criterion_mae = nn.L1Loss()\n",
    "optimizer = optim.Adam(model.parameters(), lr)\n",
    "epochs_loss_mse, epochs_loss_mae, epochs_loss_mse_test, epochs_loss_mae_test = train(\n",
    "    model, \n",
    "    train_loader,\n",
    "    test_loader,\n",
    "    criterion_mse,\n",
    "    criterion_mae,\n",
    "    optimizer\n",
    ")\n",
    "plot_losses(\n",
    "    epochs_loss_mse, \n",
    "    epochs_loss_mae,\n",
    "    epochs_loss_mse_test,\n",
    "    epochs_loss_mae_test,\n",
    "    'MSE, {}, and {} layers used for training'.format(str(activation_function).split()[1], str(len(hidden_size)))\n",
    ")\n",
    "_, _, outputs_agg, targets_agg = check_accuracy(model, test_loader, criterion_mse, criterion_mae)\n",
    "# plot_predictions(outputs_agg, targets_agg)"
   ]
  },
  {
   "cell_type": "code",
   "execution_count": 33,
   "id": "empty-latex",
   "metadata": {},
   "outputs": [],
   "source": [
    "batch_size = 64\n",
    "input_size = df.shape[1] - 1\n",
    "n_layers = 2\n",
    "hidden_size = [100, 64]\n",
    "activation_function = torch.sigmoid\n",
    "output_size = 1\n",
    "lr = 0.001\n",
    "n_epochs = 150"
   ]
  },
  {
   "cell_type": "code",
   "execution_count": 34,
   "id": "binding-stadium",
   "metadata": {},
   "outputs": [
    {
     "data": {
      "application/vnd.jupyter.widget-view+json": {
       "model_id": "",
       "version_major": 2,
       "version_minor": 0
      },
      "text/plain": [
       "  0%|          | 0/150 [00:00<?, ?it/s]"
      ]
     },
     "metadata": {},
     "output_type": "display_data"
    },
    {
     "data": {
      "image/png": "[encoded data removed]",
      "text/plain": [
       "<Figure size 1080x360 with 2 Axes>"
      ]
     },
     "metadata": {
      "needs_background": "light"
     },
     "output_type": "display_data"
    }
   ],
   "source": [
    "model = Regressor_nn(\n",
    "    input_size=input_size, \n",
    "    hidden_size=hidden_size, \n",
    "    n_layers=n_layers, \n",
    "    output_size=output_size, \n",
    "    activation_function=activation_function\n",
    ")\n",
    "\n",
    "criterion_mse = nn.MSELoss()\n",
    "criterion_mae = nn.L1Loss()\n",
    "optimizer = optim.Adam(model.parameters(), lr)\n",
    "epochs_loss_mse, epochs_loss_mae, epochs_loss_mse_test, epochs_loss_mae_test = train(\n",
    "    model, \n",
    "    train_loader,\n",
    "    test_loader,\n",
    "    criterion_mse,\n",
    "    criterion_mae,\n",
    "    optimizer\n",
    ")\n",
    "plot_losses(\n",
    "    epochs_loss_mse, \n",
    "    epochs_loss_mae,\n",
    "    epochs_loss_mse_test,\n",
    "    epochs_loss_mae_test,\n",
    "    'MSE, {}, and {} layers used for training'.format(str(activation_function).split()[2], str(len(hidden_size)))\n",
    ")\n",
    "_, _, outputs_agg, targets_agg = check_accuracy(model, test_loader, criterion_mse, criterion_mae)\n",
    "# plot_predictions(outputs_agg, targets_agg)"
   ]
  }
 ],
 "metadata": {
  "kernelspec": {
   "display_name": "Python 3",
   "language": "python",
   "name": "python3"
  },
  "language_info": {
   "codemirror_mode": {
    "name": "ipython",
    "version": 3
   },
   "file_extension": ".py",
   "mimetype": "text/x-python",
   "name": "python",
   "nbconvert_exporter": "python",
   "pygments_lexer": "ipython3",
   "version": "3.8.0"
  }
 },
 "nbformat": 4,
 "nbformat_minor": 5
}
